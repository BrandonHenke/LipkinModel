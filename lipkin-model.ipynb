{
 "cells": [
  {
   "attachments": {},
   "cell_type": "markdown",
   "metadata": {},
   "source": [
    "# Lipkin Model\n",
    "\n",
    "Consider a two level system with the lower energy state ($\\sigma = -1$) having an energy of $-\\epsilon/2$ and the upper energy state ($\\sigma=1$) having an energy of $\\epsilon/2$.\n",
    "Now, consider a another system with $\\Omega \\in \\mathbb{Z}^+$ copies of this two level system.\n",
    "\n",
    "This gives a system with two quantum numbers, $\\sigma \\in \\{-1,1\\}$, and $m \\in \\{1,2,\\dots,\\Omega\\}$.\n",
    "In Fock space, the Hamiltonian for this system is\n",
    "$$\\begin{align}\n",
    "\t\\hat{H} &= \\frac{1}{2} \\epsilon \\sum_{m\\sigma}\\sigma a_{m\\sigma}^\\dagger a_{m\\sigma}- \\frac{1}{2}V\\sum_{mm'\\sigma}a_{m\\sigma}^\\dagger a_{m'\\sigma}^\\dagger a_{m'-\\sigma}a_{m-\\sigma}.\n",
    "\\end{align}$$\n",
    "The $V$ term here is the two particle interaction term between adjacent particles.\n",
    "\n",
    "## Quaisi-spin Operators\n",
    "\n",
    "One can consider the operators\n",
    "$$\\begin{align}\n",
    "\t\\hat{K}_3 &= \\frac{1}{2} \\sum_{m=1}^\\Omega (a_{m+}^\\dagger a_{m+}-a_{m-}^\\dagger a_{m-}),\\\\\n",
    "\t\\hat{K}_+ &= \\sum_{m=1}^\\Omega a_{m+}^\\dagger a_{m-},\\\\\n",
    "\t\\hat{K}_- &= (\\hat{K}_+)^\\dagger,\\\\\n",
    "\t\t&= \\sum_{m=1}^\\Omega a_{m-}^\\dagger a_{m+}.\n",
    "\\end{align}$$\n",
    "\n",
    "\n",
    "### Commutation Relations\n",
    "\n",
    "$$\\begin{align}\n",
    "\t[\\hat{K}_+,\\hat{K}_-] &= \\sum_{m=1}^\\Omega\\sum_{n=1}^\\Omega a_{m+}^\\dagger a_{m-} a_{n-}^\\dagger a_{n+} - a_{n-}^\\dagger a_{n+} a_{m+}^\\dagger a_{m-},\\\\\n",
    "\t&= \\sum_{m=1}^\\Omega\\sum_{n=1}^\\Omega a_{m+}^\\dagger  (\\delta_{m-n-} - a_{n-}^\\dagger a_{m-}) a_{n+} - a_{n-}^\\dagger (\\delta_{m+n+} - a_{m+}^\\dagger a_{n+}) a_{m-},\\\\\n",
    "\t&= \\sum_{m=1}^\\Omega a_{m+}^\\dagger a_{m+} - a_{m-}^\\dagger a_{m-} + \\sum_{m=1}^\\Omega\\sum_{n=1}^\\Omega a_{n-}^\\dagger a_{m+}^\\dagger a_{n+} a_{m-} - a_{m+}^\\dagger a_{n-}^\\dagger a_{m-} a_{n+},\\\\\n",
    "\t&= 2\\hat{K}_3 + 0,\\\\\n",
    "\t&= 2\\hat{K}_3.\n",
    "\\end{align}$$"
   ]
  },
  {
   "cell_type": "code",
   "execution_count": null,
   "metadata": {},
   "outputs": [],
   "source": []
  }
 ],
 "metadata": {
  "kernelspec": {
   "display_name": "lipkinmodel-lxVyN2NQ-py3.10",
   "language": "python",
   "name": "python3"
  },
  "language_info": {
   "codemirror_mode": {
    "name": "ipython",
    "version": 3
   },
   "file_extension": ".py",
   "mimetype": "text/x-python",
   "name": "python",
   "nbconvert_exporter": "python",
   "pygments_lexer": "ipython3",
   "version": "3.10.10"
  },
  "orig_nbformat": 4
 },
 "nbformat": 4,
 "nbformat_minor": 2
}
